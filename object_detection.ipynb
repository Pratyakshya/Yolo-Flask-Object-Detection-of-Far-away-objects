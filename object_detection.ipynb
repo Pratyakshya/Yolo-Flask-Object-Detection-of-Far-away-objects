{
  "nbformat": 4,
  "nbformat_minor": 0,
  "metadata": {
    "colab": {
      "provenance": []
    },
    "kernelspec": {
      "name": "python3",
      "display_name": "Python 3"
    },
    "language_info": {
      "name": "python"
    },
    "accelerator": "GPU",
    "gpuClass": "standard"
  },
  "cells": [
    {
      "cell_type": "markdown",
      "source": [
        "#Setup\n"
      ],
      "metadata": {
        "id": "TpOmWe_Wm6_v"
      }
    },
    {
      "cell_type": "code",
      "execution_count": null,
      "metadata": {
        "colab": {
          "base_uri": "https://localhost:8080/"
        },
        "id": "4MMUrscvjRZz",
        "outputId": "0924ef1c-d7ab-41c2-b336-5595ea182382"
      },
      "outputs": [
        {
          "output_type": "stream",
          "name": "stderr",
          "text": [
            "YOLOv5 🚀 v7.0-178-ga199480 Python-3.10.12 torch-2.0.1+cu118 CUDA:0 (Tesla T4, 15102MiB)\n"
          ]
        },
        {
          "output_type": "stream",
          "name": "stdout",
          "text": [
            "Setup complete ✅ (2 CPUs, 12.7 GB RAM, 23.3/78.2 GB disk)\n"
          ]
        }
      ],
      "source": [
        "!git clone https://github.com/ultralytics/yolov5\n",
        "%cd yolov5\n",
        "%pip install -qr requirements.txt\n",
        "\n",
        "import torch\n",
        "import utils\n",
        "display = utils.notebook_init()"
      ]
    },
    {
      "cell_type": "markdown",
      "source": [
        "Unzipping our train file that we uploaded in zip format"
      ],
      "metadata": {
        "id": "FFMaws5MocCj"
      }
    },
    {
      "cell_type": "code",
      "source": [
        "!unzip -q ../train_data.zip -d ../"
      ],
      "metadata": {
        "id": "4duTHCFWoG-h"
      },
      "execution_count": null,
      "outputs": []
    },
    {
      "cell_type": "code",
      "source": [
        "# Train custom data\n",
        "!python train.py --img 640 --batch 2 --epochs 70 --data trafficconesdata.yaml --weights yolov5s.pt --cache"
      ],
      "metadata": {
        "colab": {
          "base_uri": "https://localhost:8080/"
        },
        "id": "KAckJvM4uWMU",
        "outputId": "0367c8d8-3772-44b8-9abc-c42911d838c1"
      },
      "execution_count": null,
      "outputs": [
        {
          "output_type": "stream",
          "name": "stdout",
          "text": [
            "WARNING ⚠️ user config directory is not writeable, defaulting to '/tmp/Ultralytics'.\n",
            "\u001b[34m\u001b[1mtrain: \u001b[0mweights=yolov5s.pt, cfg=, data=trafficconesdata.yaml, hyp=data/hyps/hyp.scratch-low.yaml, epochs=70, batch_size=2, imgsz=640, rect=False, resume=False, nosave=False, noval=False, noautoanchor=False, noplots=False, evolve=None, bucket=, cache=ram, image_weights=False, device=, multi_scale=False, single_cls=False, optimizer=SGD, sync_bn=False, workers=8, project=runs/train, name=exp, exist_ok=False, quad=False, cos_lr=False, label_smoothing=0.0, patience=100, freeze=[0], save_period=-1, seed=0, local_rank=-1, entity=None, upload_dataset=False, bbox_interval=-1, artifact_alias=latest\n",
            "\u001b[34m\u001b[1mgithub: \u001b[0mup to date with https://github.com/ultralytics/yolov5 ✅\n",
            "YOLOv5 🚀 v7.0-178-ga199480 Python-3.10.12 torch-2.0.1+cu118 CUDA:0 (Tesla T4, 15102MiB)\n",
            "\n",
            "\u001b[34m\u001b[1mhyperparameters: \u001b[0mlr0=0.01, lrf=0.01, momentum=0.937, weight_decay=0.0005, warmup_epochs=3.0, warmup_momentum=0.8, warmup_bias_lr=0.1, box=0.05, cls=0.5, cls_pw=1.0, obj=1.0, obj_pw=1.0, iou_t=0.2, anchor_t=4.0, fl_gamma=0.0, hsv_h=0.015, hsv_s=0.7, hsv_v=0.4, degrees=0.0, translate=0.1, scale=0.5, shear=0.0, perspective=0.0, flipud=0.0, fliplr=0.5, mosaic=1.0, mixup=0.0, copy_paste=0.0\n",
            "\u001b[34m\u001b[1mClearML: \u001b[0mrun 'pip install clearml' to automatically track, visualize and remotely train YOLOv5 🚀 in ClearML\n",
            "\u001b[34m\u001b[1mComet: \u001b[0mrun 'pip install comet_ml' to automatically track and visualize YOLOv5 🚀 runs in Comet\n",
            "\u001b[34m\u001b[1mTensorBoard: \u001b[0mStart with 'tensorboard --logdir runs/train', view at http://localhost:6006/\n",
            "Downloading https://github.com/ultralytics/yolov5/releases/download/v7.0/yolov5s.pt to yolov5s.pt...\n",
            "100% 14.1M/14.1M [00:00<00:00, 351MB/s]\n",
            "\n",
            "Overriding model.yaml nc=80 with nc=1\n",
            "\n",
            "                 from  n    params  module                                  arguments                     \n",
            "  0                -1  1      3520  models.common.Conv                      [3, 32, 6, 2, 2]              \n",
            "  1                -1  1     18560  models.common.Conv                      [32, 64, 3, 2]                \n",
            "  2                -1  1     18816  models.common.C3                        [64, 64, 1]                   \n",
            "  3                -1  1     73984  models.common.Conv                      [64, 128, 3, 2]               \n",
            "  4                -1  2    115712  models.common.C3                        [128, 128, 2]                 \n",
            "  5                -1  1    295424  models.common.Conv                      [128, 256, 3, 2]              \n",
            "  6                -1  3    625152  models.common.C3                        [256, 256, 3]                 \n",
            "  7                -1  1   1180672  models.common.Conv                      [256, 512, 3, 2]              \n",
            "  8                -1  1   1182720  models.common.C3                        [512, 512, 1]                 \n",
            "  9                -1  1    656896  models.common.SPPF                      [512, 512, 5]                 \n",
            " 10                -1  1    131584  models.common.Conv                      [512, 256, 1, 1]              \n",
            " 11                -1  1         0  torch.nn.modules.upsampling.Upsample    [None, 2, 'nearest']          \n",
            " 12           [-1, 6]  1         0  models.common.Concat                    [1]                           \n",
            " 13                -1  1    361984  models.common.C3                        [512, 256, 1, False]          \n",
            " 14                -1  1     33024  models.common.Conv                      [256, 128, 1, 1]              \n",
            " 15                -1  1         0  torch.nn.modules.upsampling.Upsample    [None, 2, 'nearest']          \n",
            " 16           [-1, 4]  1         0  models.common.Concat                    [1]                           \n",
            " 17                -1  1     90880  models.common.C3                        [256, 128, 1, False]          \n",
            " 18                -1  1    147712  models.common.Conv                      [128, 128, 3, 2]              \n",
            " 19          [-1, 14]  1         0  models.common.Concat                    [1]                           \n",
            " 20                -1  1    296448  models.common.C3                        [256, 256, 1, False]          \n",
            " 21                -1  1    590336  models.common.Conv                      [256, 256, 3, 2]              \n",
            " 22          [-1, 10]  1         0  models.common.Concat                    [1]                           \n",
            " 23                -1  1   1182720  models.common.C3                        [512, 512, 1, False]          \n",
            " 24      [17, 20, 23]  1     16182  models.yolo.Detect                      [1, [[10, 13, 16, 30, 33, 23], [30, 61, 62, 45, 59, 119], [116, 90, 156, 198, 373, 326]], [128, 256, 512]]\n",
            "Model summary: 214 layers, 7022326 parameters, 7022326 gradients, 15.9 GFLOPs\n",
            "\n",
            "Transferred 343/349 items from yolov5s.pt\n",
            "\u001b[34m\u001b[1mAMP: \u001b[0mchecks passed ✅\n",
            "\u001b[34m\u001b[1moptimizer:\u001b[0m SGD(lr=0.01) with parameter groups 57 weight(decay=0.0), 60 weight(decay=0.0005), 60 bias\n",
            "\u001b[34m\u001b[1malbumentations: \u001b[0mBlur(p=0.01, blur_limit=(3, 7)), MedianBlur(p=0.01, blur_limit=(3, 7)), ToGray(p=0.01), CLAHE(p=0.01, clip_limit=(1, 4.0), tile_grid_size=(8, 8))\n",
            "\u001b[34m\u001b[1mtrain: \u001b[0mScanning /content/train_data/train/labels... 1362 images, 9 backgrounds, 0 corrupt: 100% 1362/1362 [00:01<00:00, 1178.74it/s]\n",
            "\u001b[34m\u001b[1mtrain: \u001b[0mNew cache created: /content/train_data/train/labels.cache\n",
            "\u001b[34m\u001b[1mtrain: \u001b[0mCaching images (1.6GB ram): 100% 1362/1362 [00:05<00:00, 228.22it/s]\n",
            "\u001b[34m\u001b[1mval: \u001b[0mScanning /content/train_data/valid/labels... 124 images, 2 backgrounds, 0 corrupt: 100% 124/124 [00:00<00:00, 596.34it/s]\n",
            "\u001b[34m\u001b[1mval: \u001b[0mNew cache created: /content/train_data/valid/labels.cache\n",
            "\u001b[34m\u001b[1mval: \u001b[0mCaching images (0.1GB ram): 100% 124/124 [00:00<00:00, 232.93it/s]\n",
            "\n",
            "\u001b[34m\u001b[1mAutoAnchor: \u001b[0m3.17 anchors/target, 1.000 Best Possible Recall (BPR). Current anchors are a good fit to dataset ✅\n",
            "Plotting labels to runs/train/exp/labels.jpg... \n",
            "Image sizes 640 train, 640 val\n",
            "Using 2 dataloader workers\n",
            "Logging results to \u001b[1mruns/train/exp\u001b[0m\n",
            "Starting training for 70 epochs...\n",
            "\n",
            "      Epoch    GPU_mem   box_loss   obj_loss   cls_loss  Instances       Size\n",
            "       0/69     0.707G    0.06778     0.0306          0          8        640: 100% 681/681 [00:50<00:00, 13.51it/s]\n",
            "                 Class     Images  Instances          P          R      mAP50   mAP50-95: 100% 31/31 [00:02<00:00, 11.51it/s]\n",
            "                   all        124        202      0.438      0.485      0.372      0.142\n",
            "\n",
            "      Epoch    GPU_mem   box_loss   obj_loss   cls_loss  Instances       Size\n",
            "       1/69     0.707G    0.04652     0.0262          0         11        640: 100% 681/681 [00:44<00:00, 15.25it/s]\n",
            "                 Class     Images  Instances          P          R      mAP50   mAP50-95: 100% 31/31 [00:01<00:00, 23.85it/s]\n",
            "                   all        124        202      0.351      0.571      0.342      0.105\n",
            "\n",
            "      Epoch    GPU_mem   box_loss   obj_loss   cls_loss  Instances       Size\n",
            "       2/69     0.707G    0.04118    0.02432          0          6        640: 100% 681/681 [00:43<00:00, 15.81it/s]\n",
            "                 Class     Images  Instances          P          R      mAP50   mAP50-95: 100% 31/31 [00:01<00:00, 24.02it/s]\n",
            "                   all        124        202      0.606      0.564      0.551      0.205\n",
            "\n",
            "      Epoch    GPU_mem   box_loss   obj_loss   cls_loss  Instances       Size\n",
            "       3/69     0.707G    0.03668    0.02273          0         11        640: 100% 681/681 [00:43<00:00, 15.57it/s]\n",
            "                 Class     Images  Instances          P          R      mAP50   mAP50-95: 100% 31/31 [00:01<00:00, 24.17it/s]\n",
            "                   all        124        202      0.598      0.649      0.569      0.212\n",
            "\n",
            "      Epoch    GPU_mem   box_loss   obj_loss   cls_loss  Instances       Size\n",
            "       4/69     0.707G    0.03548    0.02282          0          9        640: 100% 681/681 [00:44<00:00, 15.45it/s]\n",
            "                 Class     Images  Instances          P          R      mAP50   mAP50-95: 100% 31/31 [00:01<00:00, 24.03it/s]\n",
            "                   all        124        202      0.623      0.733      0.605      0.199\n",
            "\n",
            "      Epoch    GPU_mem   box_loss   obj_loss   cls_loss  Instances       Size\n",
            "       5/69     0.707G    0.03245    0.02182          0          7        640: 100% 681/681 [00:43<00:00, 15.52it/s]\n",
            "                 Class     Images  Instances          P          R      mAP50   mAP50-95: 100% 31/31 [00:01<00:00, 23.97it/s]\n",
            "                   all        124        202      0.711      0.802      0.747       0.31\n",
            "\n",
            "      Epoch    GPU_mem   box_loss   obj_loss   cls_loss  Instances       Size\n",
            "       6/69     0.707G    0.03157    0.02138          0          5        640: 100% 681/681 [00:43<00:00, 15.75it/s]\n",
            "                 Class     Images  Instances          P          R      mAP50   mAP50-95: 100% 31/31 [00:01<00:00, 23.78it/s]\n",
            "                   all        124        202      0.741      0.812      0.764      0.267\n",
            "\n",
            "      Epoch    GPU_mem   box_loss   obj_loss   cls_loss  Instances       Size\n",
            "       7/69     0.707G    0.03082    0.02125          0          8        640: 100% 681/681 [00:44<00:00, 15.32it/s]\n",
            "                 Class     Images  Instances          P          R      mAP50   mAP50-95: 100% 31/31 [00:01<00:00, 23.91it/s]\n",
            "                   all        124        202      0.744      0.832      0.804      0.285\n",
            "\n",
            "      Epoch    GPU_mem   box_loss   obj_loss   cls_loss  Instances       Size\n",
            "       8/69     0.707G    0.02869    0.02117          0          5        640: 100% 681/681 [00:43<00:00, 15.81it/s]\n",
            "                 Class     Images  Instances          P          R      mAP50   mAP50-95: 100% 31/31 [00:01<00:00, 23.01it/s]\n",
            "                   all        124        202      0.781      0.792      0.836      0.373\n",
            "\n",
            "      Epoch    GPU_mem   box_loss   obj_loss   cls_loss  Instances       Size\n",
            "       9/69     0.707G    0.02818     0.0199          0          6        640: 100% 681/681 [00:45<00:00, 15.03it/s]\n",
            "                 Class     Images  Instances          P          R      mAP50   mAP50-95: 100% 31/31 [00:01<00:00, 23.72it/s]\n",
            "                   all        124        202      0.797      0.827      0.813      0.356\n",
            "\n",
            "      Epoch    GPU_mem   box_loss   obj_loss   cls_loss  Instances       Size\n",
            "      10/69     0.707G    0.02827    0.02037          0          9        640: 100% 681/681 [00:43<00:00, 15.82it/s]\n",
            "                 Class     Images  Instances          P          R      mAP50   mAP50-95: 100% 31/31 [00:01<00:00, 23.61it/s]\n",
            "                   all        124        202      0.768      0.804      0.803      0.353\n",
            "\n",
            "      Epoch    GPU_mem   box_loss   obj_loss   cls_loss  Instances       Size\n",
            "      11/69     0.707G    0.02683    0.01969          0          4        640: 100% 681/681 [00:43<00:00, 15.69it/s]\n",
            "                 Class     Images  Instances          P          R      mAP50   mAP50-95: 100% 31/31 [00:01<00:00, 17.10it/s]\n",
            "                   all        124        202      0.771      0.812       0.82      0.353\n",
            "\n",
            "      Epoch    GPU_mem   box_loss   obj_loss   cls_loss  Instances       Size\n",
            "      12/69     0.707G    0.02648    0.01963          0          7        640: 100% 681/681 [00:42<00:00, 15.85it/s]\n",
            "                 Class     Images  Instances          P          R      mAP50   mAP50-95: 100% 31/31 [00:01<00:00, 24.21it/s]\n",
            "                   all        124        202      0.786      0.851      0.832       0.35\n",
            "\n",
            "      Epoch    GPU_mem   box_loss   obj_loss   cls_loss  Instances       Size\n",
            "      13/69     0.707G    0.02678    0.01935          0          6        640: 100% 681/681 [00:46<00:00, 14.80it/s]\n",
            "                 Class     Images  Instances          P          R      mAP50   mAP50-95: 100% 31/31 [00:01<00:00, 23.23it/s]\n",
            "                   all        124        202      0.778      0.881      0.818       0.35\n",
            "\n",
            "      Epoch    GPU_mem   box_loss   obj_loss   cls_loss  Instances       Size\n",
            "      14/69     0.707G     0.0266    0.01928          0         13        640: 100% 681/681 [00:45<00:00, 15.04it/s]\n",
            "                 Class     Images  Instances          P          R      mAP50   mAP50-95: 100% 31/31 [00:01<00:00, 22.35it/s]\n",
            "                   all        124        202      0.768      0.856      0.804      0.388\n",
            "\n",
            "      Epoch    GPU_mem   box_loss   obj_loss   cls_loss  Instances       Size\n",
            "      15/69     0.707G    0.02603     0.0194          0          5        640: 100% 681/681 [00:46<00:00, 14.72it/s]\n",
            "                 Class     Images  Instances          P          R      mAP50   mAP50-95: 100% 31/31 [00:01<00:00, 22.63it/s]\n",
            "                   all        124        202      0.806      0.817      0.848      0.387\n",
            "\n",
            "      Epoch    GPU_mem   box_loss   obj_loss   cls_loss  Instances       Size\n",
            "      16/69     0.707G    0.02574    0.01904          0          6        640: 100% 681/681 [00:46<00:00, 14.76it/s]\n",
            "                 Class     Images  Instances          P          R      mAP50   mAP50-95: 100% 31/31 [00:02<00:00, 15.13it/s]\n",
            "                   all        124        202      0.819      0.832      0.848      0.354\n",
            "\n",
            "      Epoch    GPU_mem   box_loss   obj_loss   cls_loss  Instances       Size\n",
            "      17/69     0.709G    0.02488    0.01831          0          5        640: 100% 681/681 [00:46<00:00, 14.68it/s]\n",
            "                 Class     Images  Instances          P          R      mAP50   mAP50-95: 100% 31/31 [00:01<00:00, 22.57it/s]\n",
            "                   all        124        202      0.816      0.827      0.849      0.444\n",
            "\n",
            "      Epoch    GPU_mem   box_loss   obj_loss   cls_loss  Instances       Size\n",
            "      18/69     0.709G    0.02464    0.01872          0          5        640: 100% 681/681 [00:46<00:00, 14.65it/s]\n",
            "                 Class     Images  Instances          P          R      mAP50   mAP50-95: 100% 31/31 [00:01<00:00, 23.34it/s]\n",
            "                   all        124        202      0.809      0.812      0.814      0.394\n",
            "\n",
            "      Epoch    GPU_mem   box_loss   obj_loss   cls_loss  Instances       Size\n",
            "      19/69     0.709G    0.02532    0.01859          0          6        640: 100% 681/681 [00:44<00:00, 15.33it/s]\n",
            "                 Class     Images  Instances          P          R      mAP50   mAP50-95: 100% 31/31 [00:01<00:00, 22.85it/s]\n",
            "                   all        124        202       0.88      0.766      0.856      0.428\n",
            "\n",
            "      Epoch    GPU_mem   box_loss   obj_loss   cls_loss  Instances       Size\n",
            "      20/69     0.709G    0.02425     0.0188          0          5        640: 100% 681/681 [00:43<00:00, 15.58it/s]\n",
            "                 Class     Images  Instances          P          R      mAP50   mAP50-95: 100% 31/31 [00:01<00:00, 23.55it/s]\n",
            "                   all        124        202       0.86      0.853      0.875      0.457\n",
            "\n",
            "      Epoch    GPU_mem   box_loss   obj_loss   cls_loss  Instances       Size\n",
            "      21/69     0.709G    0.02466    0.01821          0          9        640: 100% 681/681 [00:43<00:00, 15.51it/s]\n",
            "                 Class     Images  Instances          P          R      mAP50   mAP50-95: 100% 31/31 [00:01<00:00, 23.58it/s]\n",
            "                   all        124        202      0.805      0.866      0.845       0.44\n",
            "\n",
            "      Epoch    GPU_mem   box_loss   obj_loss   cls_loss  Instances       Size\n",
            "      22/69     0.709G    0.02467     0.0185          0          4        640: 100% 681/681 [00:43<00:00, 15.80it/s]\n",
            "                 Class     Images  Instances          P          R      mAP50   mAP50-95: 100% 31/31 [00:01<00:00, 23.86it/s]\n",
            "                   all        124        202      0.808      0.855      0.844      0.432\n",
            "\n",
            "      Epoch    GPU_mem   box_loss   obj_loss   cls_loss  Instances       Size\n",
            "      23/69     0.709G    0.02386    0.01815          0          5        640: 100% 681/681 [00:43<00:00, 15.55it/s]\n",
            "                 Class     Images  Instances          P          R      mAP50   mAP50-95: 100% 31/31 [00:01<00:00, 23.60it/s]\n",
            "                   all        124        202       0.81      0.868      0.843      0.429\n",
            "\n",
            "      Epoch    GPU_mem   box_loss   obj_loss   cls_loss  Instances       Size\n",
            "      24/69     0.709G    0.02276    0.01713          0          6        640: 100% 681/681 [00:43<00:00, 15.55it/s]\n",
            "                 Class     Images  Instances          P          R      mAP50   mAP50-95: 100% 31/31 [00:01<00:00, 23.71it/s]\n",
            "                   all        124        202      0.848      0.831      0.878      0.419\n",
            "\n",
            "      Epoch    GPU_mem   box_loss   obj_loss   cls_loss  Instances       Size\n",
            "      25/69     0.709G    0.02358    0.01807          0          4        640: 100% 681/681 [00:43<00:00, 15.71it/s]\n",
            "                 Class     Images  Instances          P          R      mAP50   mAP50-95: 100% 31/31 [00:01<00:00, 19.08it/s]\n",
            "                   all        124        202      0.808      0.881      0.857      0.453\n",
            "\n",
            "      Epoch    GPU_mem   box_loss   obj_loss   cls_loss  Instances       Size\n",
            "      26/69     0.709G    0.02282    0.01774          0          3        640: 100% 681/681 [00:44<00:00, 15.29it/s]\n",
            "                 Class     Images  Instances          P          R      mAP50   mAP50-95: 100% 31/31 [00:01<00:00, 24.14it/s]\n",
            "                   all        124        202      0.855      0.819      0.857      0.457\n",
            "\n",
            "      Epoch    GPU_mem   box_loss   obj_loss   cls_loss  Instances       Size\n",
            "      27/69     0.709G     0.0224    0.01732          0          4        640: 100% 681/681 [00:44<00:00, 15.44it/s]\n",
            "                 Class     Images  Instances          P          R      mAP50   mAP50-95: 100% 31/31 [00:01<00:00, 23.66it/s]\n",
            "                   all        124        202      0.817      0.851      0.858      0.423\n",
            "\n",
            "      Epoch    GPU_mem   box_loss   obj_loss   cls_loss  Instances       Size\n",
            "      28/69     0.709G    0.02268    0.01731          0          6        640: 100% 681/681 [00:43<00:00, 15.79it/s]\n",
            "                 Class     Images  Instances          P          R      mAP50   mAP50-95: 100% 31/31 [00:01<00:00, 17.13it/s]\n",
            "                   all        124        202      0.844      0.832      0.873      0.436\n",
            "\n",
            "      Epoch    GPU_mem   box_loss   obj_loss   cls_loss  Instances       Size\n",
            "      29/69     0.709G    0.02271    0.01771          0          4        640: 100% 681/681 [00:42<00:00, 15.92it/s]\n",
            "                 Class     Images  Instances          P          R      mAP50   mAP50-95: 100% 31/31 [00:01<00:00, 23.67it/s]\n",
            "                   all        124        202      0.858      0.837       0.87       0.43\n",
            "\n",
            "      Epoch    GPU_mem   box_loss   obj_loss   cls_loss  Instances       Size\n",
            "      30/69     0.709G    0.02281    0.01779          0          7        640: 100% 681/681 [00:45<00:00, 15.13it/s]\n",
            "                 Class     Images  Instances          P          R      mAP50   mAP50-95: 100% 31/31 [00:01<00:00, 23.81it/s]\n",
            "                   all        124        202      0.888       0.86      0.911      0.436\n",
            "\n",
            "      Epoch    GPU_mem   box_loss   obj_loss   cls_loss  Instances       Size\n",
            "      31/69     0.709G    0.02166    0.01712          0          4        640: 100% 681/681 [00:43<00:00, 15.82it/s]\n",
            "                 Class     Images  Instances          P          R      mAP50   mAP50-95: 100% 31/31 [00:01<00:00, 15.82it/s]\n",
            "                   all        124        202      0.819      0.891      0.894      0.477\n",
            "\n",
            "      Epoch    GPU_mem   box_loss   obj_loss   cls_loss  Instances       Size\n",
            "      32/69     0.709G    0.02247    0.01734          0          8        640: 100% 681/681 [00:43<00:00, 15.73it/s]\n",
            "                 Class     Images  Instances          P          R      mAP50   mAP50-95: 100% 31/31 [00:01<00:00, 23.69it/s]\n",
            "                   all        124        202      0.847      0.875      0.887      0.453\n",
            "\n",
            "      Epoch    GPU_mem   box_loss   obj_loss   cls_loss  Instances       Size\n",
            "      33/69     0.709G    0.02229    0.01762          0          5        640: 100% 681/681 [00:44<00:00, 15.33it/s]\n",
            "                 Class     Images  Instances          P          R      mAP50   mAP50-95: 100% 31/31 [00:01<00:00, 23.17it/s]\n",
            "                   all        124        202      0.855      0.856      0.891      0.474\n",
            "\n",
            "      Epoch    GPU_mem   box_loss   obj_loss   cls_loss  Instances       Size\n",
            "      34/69     0.709G    0.02185    0.01734          0          3        640: 100% 681/681 [00:44<00:00, 15.16it/s]\n",
            "                 Class     Images  Instances          P          R      mAP50   mAP50-95: 100% 31/31 [00:01<00:00, 23.34it/s]\n",
            "                   all        124        202       0.81      0.887      0.846      0.398\n",
            "\n",
            "      Epoch    GPU_mem   box_loss   obj_loss   cls_loss  Instances       Size\n",
            "      35/69     0.709G    0.02153    0.01677          0          4        640: 100% 681/681 [00:43<00:00, 15.75it/s]\n",
            "                 Class     Images  Instances          P          R      mAP50   mAP50-95: 100% 31/31 [00:01<00:00, 23.38it/s]\n",
            "                   all        124        202      0.819      0.895      0.881      0.458\n",
            "\n",
            "      Epoch    GPU_mem   box_loss   obj_loss   cls_loss  Instances       Size\n",
            "      36/69     0.709G    0.02108    0.01735          0          7        640: 100% 681/681 [00:43<00:00, 15.50it/s]\n",
            "                 Class     Images  Instances          P          R      mAP50   mAP50-95: 100% 31/31 [00:01<00:00, 23.07it/s]\n",
            "                   all        124        202      0.841      0.861      0.861      0.435\n",
            "\n",
            "      Epoch    GPU_mem   box_loss   obj_loss   cls_loss  Instances       Size\n",
            "      37/69     0.709G    0.02225    0.01711          0          6        640: 100% 681/681 [00:44<00:00, 15.37it/s]\n",
            "                 Class     Images  Instances          P          R      mAP50   mAP50-95: 100% 31/31 [00:01<00:00, 23.23it/s]\n",
            "                   all        124        202      0.839      0.853      0.876       0.46\n",
            "\n",
            "      Epoch    GPU_mem   box_loss   obj_loss   cls_loss  Instances       Size\n",
            "      38/69     0.709G    0.02084    0.01658          0         14        640: 100% 681/681 [00:43<00:00, 15.78it/s]\n",
            "                 Class     Images  Instances          P          R      mAP50   mAP50-95: 100% 31/31 [00:01<00:00, 23.54it/s]\n",
            "                   all        124        202      0.798      0.843      0.845      0.437\n",
            "\n",
            "      Epoch    GPU_mem   box_loss   obj_loss   cls_loss  Instances       Size\n",
            "      39/69     0.709G     0.0214    0.01664          0          6        640: 100% 681/681 [00:44<00:00, 15.17it/s]\n",
            "                 Class     Images  Instances          P          R      mAP50   mAP50-95: 100% 31/31 [00:01<00:00, 23.76it/s]\n",
            "                   all        124        202      0.818      0.842      0.855      0.432\n",
            "\n",
            "      Epoch    GPU_mem   box_loss   obj_loss   cls_loss  Instances       Size\n",
            "      40/69     0.709G    0.02102    0.01651          0          8        640: 100% 681/681 [00:43<00:00, 15.49it/s]\n",
            "                 Class     Images  Instances          P          R      mAP50   mAP50-95: 100% 31/31 [00:01<00:00, 23.21it/s]\n",
            "                   all        124        202      0.832      0.861      0.875      0.432\n",
            "\n",
            "      Epoch    GPU_mem   box_loss   obj_loss   cls_loss  Instances       Size\n",
            "      41/69     0.709G    0.02097    0.01689          0         13        640: 100% 681/681 [00:43<00:00, 15.81it/s]\n",
            "                 Class     Images  Instances          P          R      mAP50   mAP50-95: 100% 31/31 [00:01<00:00, 23.14it/s]\n",
            "                   all        124        202      0.833      0.866      0.873      0.413\n",
            "\n",
            "      Epoch    GPU_mem   box_loss   obj_loss   cls_loss  Instances       Size\n",
            "      42/69     0.709G    0.02071    0.01649          0         15        640: 100% 681/681 [00:43<00:00, 15.61it/s]\n",
            "                 Class     Images  Instances          P          R      mAP50   mAP50-95: 100% 31/31 [00:01<00:00, 23.33it/s]\n",
            "                   all        124        202      0.811       0.89      0.837      0.426\n",
            "\n",
            "      Epoch    GPU_mem   box_loss   obj_loss   cls_loss  Instances       Size\n",
            "      43/69     0.709G    0.02111    0.01661          0         19        640: 100% 681/681 [00:45<00:00, 14.83it/s]\n",
            "                 Class     Images  Instances          P          R      mAP50   mAP50-95: 100% 31/31 [00:01<00:00, 22.93it/s]\n",
            "                   all        124        202      0.821      0.861      0.876      0.455\n",
            "\n",
            "      Epoch    GPU_mem   box_loss   obj_loss   cls_loss  Instances       Size\n",
            "      44/69     0.709G    0.02043     0.0167          0          4        640: 100% 681/681 [00:43<00:00, 15.64it/s]\n",
            "                 Class     Images  Instances          P          R      mAP50   mAP50-95: 100% 31/31 [00:01<00:00, 15.95it/s]\n",
            "                   all        124        202       0.83      0.849      0.884      0.452\n",
            "\n",
            "      Epoch    GPU_mem   box_loss   obj_loss   cls_loss  Instances       Size\n",
            "      45/69     0.709G    0.02075    0.01629          0          5        640: 100% 681/681 [00:43<00:00, 15.54it/s]\n",
            "                 Class     Images  Instances          P          R      mAP50   mAP50-95: 100% 31/31 [00:01<00:00, 23.23it/s]\n",
            "                   all        124        202       0.83      0.848      0.862      0.459\n",
            "\n",
            "      Epoch    GPU_mem   box_loss   obj_loss   cls_loss  Instances       Size\n",
            "      46/69     0.709G    0.02022    0.01648          0          5        640: 100% 681/681 [00:44<00:00, 15.28it/s]\n",
            "                 Class     Images  Instances          P          R      mAP50   mAP50-95: 100% 31/31 [00:01<00:00, 22.97it/s]\n",
            "                   all        124        202      0.846      0.876      0.902       0.48\n",
            "\n",
            "      Epoch    GPU_mem   box_loss   obj_loss   cls_loss  Instances       Size\n",
            "      47/69     0.709G    0.01957    0.01594          0          6        640: 100% 681/681 [00:46<00:00, 14.79it/s]\n",
            "                 Class     Images  Instances          P          R      mAP50   mAP50-95: 100% 31/31 [00:01<00:00, 23.46it/s]\n",
            "                   all        124        202       0.84      0.896      0.866      0.447\n",
            "\n",
            "      Epoch    GPU_mem   box_loss   obj_loss   cls_loss  Instances       Size\n",
            "      48/69     0.709G    0.01999    0.01594          0          5        640: 100% 681/681 [00:43<00:00, 15.68it/s]\n",
            "                 Class     Images  Instances          P          R      mAP50   mAP50-95: 100% 31/31 [00:01<00:00, 18.62it/s]\n",
            "                   all        124        202      0.854      0.872      0.857      0.452\n",
            "\n",
            "      Epoch    GPU_mem   box_loss   obj_loss   cls_loss  Instances       Size\n",
            "      49/69     0.709G    0.02021     0.0165          0          7        640: 100% 681/681 [00:43<00:00, 15.51it/s]\n",
            "                 Class     Images  Instances          P          R      mAP50   mAP50-95: 100% 31/31 [00:01<00:00, 23.61it/s]\n",
            "                   all        124        202       0.86      0.853      0.858      0.422\n",
            "\n",
            "      Epoch    GPU_mem   box_loss   obj_loss   cls_loss  Instances       Size\n",
            "      50/69     0.709G     0.0196    0.01612          0          5        640: 100% 681/681 [00:44<00:00, 15.33it/s]\n",
            "                 Class     Images  Instances          P          R      mAP50   mAP50-95: 100% 31/31 [00:01<00:00, 23.18it/s]\n",
            "                   all        124        202       0.86      0.871      0.897      0.481\n",
            "\n",
            "      Epoch    GPU_mem   box_loss   obj_loss   cls_loss  Instances       Size\n",
            "      51/69     0.709G    0.02013    0.01637          0          2        640: 100% 681/681 [00:44<00:00, 15.36it/s]\n",
            "                 Class     Images  Instances          P          R      mAP50   mAP50-95: 100% 31/31 [00:01<00:00, 22.51it/s]\n",
            "                   all        124        202       0.86      0.848      0.888      0.451\n",
            "\n",
            "      Epoch    GPU_mem   box_loss   obj_loss   cls_loss  Instances       Size\n",
            "      52/69     0.709G    0.01949    0.01632          0         10        640: 100% 681/681 [00:44<00:00, 15.40it/s]\n",
            "                 Class     Images  Instances          P          R      mAP50   mAP50-95: 100% 31/31 [00:01<00:00, 22.66it/s]\n",
            "                   all        124        202      0.895      0.827      0.867      0.427\n",
            "\n",
            "      Epoch    GPU_mem   box_loss   obj_loss   cls_loss  Instances       Size\n",
            "      53/69     0.709G    0.01974    0.01587          0          4        640: 100% 681/681 [00:44<00:00, 15.47it/s]\n",
            "                 Class     Images  Instances          P          R      mAP50   mAP50-95: 100% 31/31 [00:01<00:00, 23.51it/s]\n",
            "                   all        124        202      0.873      0.837      0.888      0.472\n",
            "\n",
            "      Epoch    GPU_mem   box_loss   obj_loss   cls_loss  Instances       Size\n",
            "      54/69     0.709G    0.01949    0.01585          0          5        640: 100% 681/681 [00:45<00:00, 15.01it/s]\n",
            "                 Class     Images  Instances          P          R      mAP50   mAP50-95: 100% 31/31 [00:01<00:00, 23.12it/s]\n",
            "                   all        124        202      0.827      0.881      0.863      0.452\n",
            "\n",
            "      Epoch    GPU_mem   box_loss   obj_loss   cls_loss  Instances       Size\n",
            "      55/69     0.709G     0.0188    0.01513          0          3        640: 100% 681/681 [00:44<00:00, 15.44it/s]\n",
            "                 Class     Images  Instances          P          R      mAP50   mAP50-95: 100% 31/31 [00:01<00:00, 19.28it/s]\n",
            "                   all        124        202      0.869      0.856      0.864      0.458\n",
            "\n",
            "      Epoch    GPU_mem   box_loss   obj_loss   cls_loss  Instances       Size\n",
            "      56/69     0.709G    0.01914    0.01577          0          4        640: 100% 681/681 [00:44<00:00, 15.21it/s]\n",
            "                 Class     Images  Instances          P          R      mAP50   mAP50-95: 100% 31/31 [00:01<00:00, 20.46it/s]\n",
            "                   all        124        202       0.88      0.838      0.898      0.471\n",
            "\n",
            "      Epoch    GPU_mem   box_loss   obj_loss   cls_loss  Instances       Size\n",
            "      57/69     0.709G    0.01887    0.01588          0          5        640: 100% 681/681 [00:44<00:00, 15.40it/s]\n",
            "                 Class     Images  Instances          P          R      mAP50   mAP50-95: 100% 31/31 [00:01<00:00, 23.51it/s]\n",
            "                   all        124        202      0.893      0.823      0.891      0.468\n",
            "\n",
            "      Epoch    GPU_mem   box_loss   obj_loss   cls_loss  Instances       Size\n",
            "      58/69     0.709G    0.01875    0.01542          0          5        640: 100% 681/681 [00:44<00:00, 15.28it/s]\n",
            "                 Class     Images  Instances          P          R      mAP50   mAP50-95: 100% 31/31 [00:01<00:00, 22.91it/s]\n",
            "                   all        124        202      0.812      0.877      0.841      0.457\n",
            "\n",
            "      Epoch    GPU_mem   box_loss   obj_loss   cls_loss  Instances       Size\n",
            "      59/69     0.709G    0.01853    0.01531          0          3        640: 100% 681/681 [00:43<00:00, 15.51it/s]\n",
            "                 Class     Images  Instances          P          R      mAP50   mAP50-95: 100% 31/31 [00:01<00:00, 18.63it/s]\n",
            "                   all        124        202       0.84      0.871      0.879      0.442\n",
            "\n",
            "      Epoch    GPU_mem   box_loss   obj_loss   cls_loss  Instances       Size\n",
            "      60/69     0.709G    0.01877     0.0154          0          2        640: 100% 681/681 [00:43<00:00, 15.70it/s]\n",
            "                 Class     Images  Instances          P          R      mAP50   mAP50-95: 100% 31/31 [00:01<00:00, 21.29it/s]\n",
            "                   all        124        202      0.859      0.861      0.877      0.442\n",
            "\n",
            "      Epoch    GPU_mem   box_loss   obj_loss   cls_loss  Instances       Size\n",
            "      61/69     0.709G    0.01822    0.01514          0         13        640: 100% 681/681 [00:44<00:00, 15.16it/s]\n",
            "                 Class     Images  Instances          P          R      mAP50   mAP50-95: 100% 31/31 [00:01<00:00, 23.73it/s]\n",
            "                   all        124        202      0.855      0.846      0.868      0.449\n",
            "\n",
            "      Epoch    GPU_mem   box_loss   obj_loss   cls_loss  Instances       Size\n",
            "      62/69     0.709G    0.01829    0.01545          0         12        640: 100% 681/681 [00:44<00:00, 15.44it/s]\n",
            "                 Class     Images  Instances          P          R      mAP50   mAP50-95: 100% 31/31 [00:01<00:00, 23.80it/s]\n",
            "                   all        124        202      0.842      0.856      0.878      0.466\n",
            "\n",
            "      Epoch    GPU_mem   box_loss   obj_loss   cls_loss  Instances       Size\n",
            "      63/69     0.709G    0.01769    0.01483          0          5        640: 100% 681/681 [00:43<00:00, 15.69it/s]\n",
            "                 Class     Images  Instances          P          R      mAP50   mAP50-95: 100% 31/31 [00:01<00:00, 20.15it/s]\n",
            "                   all        124        202      0.886      0.847        0.9      0.464\n",
            "\n",
            "      Epoch    GPU_mem   box_loss   obj_loss   cls_loss  Instances       Size\n",
            "      64/69     0.709G    0.01776    0.01506          0          6        640: 100% 681/681 [00:43<00:00, 15.49it/s]\n",
            "                 Class     Images  Instances          P          R      mAP50   mAP50-95: 100% 31/31 [00:01<00:00, 23.71it/s]\n",
            "                   all        124        202      0.867      0.847      0.875      0.469\n",
            "\n",
            "      Epoch    GPU_mem   box_loss   obj_loss   cls_loss  Instances       Size\n",
            "      65/69     0.709G    0.01825     0.0155          0          5        640: 100% 681/681 [00:45<00:00, 15.04it/s]\n",
            "                 Class     Images  Instances          P          R      mAP50   mAP50-95: 100% 31/31 [00:01<00:00, 23.21it/s]\n",
            "                   all        124        202      0.876      0.842       0.87      0.483\n",
            "\n",
            "      Epoch    GPU_mem   box_loss   obj_loss   cls_loss  Instances       Size\n",
            "      66/69     0.709G    0.01726    0.01465          0          9        640: 100% 681/681 [00:43<00:00, 15.48it/s]\n",
            "                 Class     Images  Instances          P          R      mAP50   mAP50-95: 100% 31/31 [00:01<00:00, 19.47it/s]\n",
            "                   all        124        202      0.881      0.832      0.886      0.476\n",
            "\n",
            "      Epoch    GPU_mem   box_loss   obj_loss   cls_loss  Instances       Size\n",
            "      67/69     0.709G    0.01766    0.01522          0          8        640: 100% 681/681 [00:43<00:00, 15.72it/s]\n",
            "                 Class     Images  Instances          P          R      mAP50   mAP50-95: 100% 31/31 [00:01<00:00, 23.61it/s]\n",
            "                   all        124        202       0.88      0.827      0.885      0.467\n",
            "\n",
            "      Epoch    GPU_mem   box_loss   obj_loss   cls_loss  Instances       Size\n",
            "      68/69     0.709G    0.01801    0.01504          0          7        640: 100% 681/681 [00:44<00:00, 15.36it/s]\n",
            "                 Class     Images  Instances          P          R      mAP50   mAP50-95: 100% 31/31 [00:01<00:00, 23.07it/s]\n",
            "                   all        124        202      0.854      0.832      0.879      0.478\n",
            "\n",
            "      Epoch    GPU_mem   box_loss   obj_loss   cls_loss  Instances       Size\n",
            "      69/69     0.709G    0.01759    0.01522          0          6        640: 100% 681/681 [00:45<00:00, 14.86it/s]\n",
            "                 Class     Images  Instances          P          R      mAP50   mAP50-95: 100% 31/31 [00:01<00:00, 20.41it/s]\n",
            "                   all        124        202      0.879      0.828      0.891      0.471\n",
            "\n",
            "70 epochs completed in 0.896 hours.\n",
            "Optimizer stripped from runs/train/exp/weights/last.pt, 14.4MB\n",
            "Optimizer stripped from runs/train/exp/weights/best.pt, 14.4MB\n",
            "\n",
            "Validating runs/train/exp/weights/best.pt...\n",
            "Fusing layers... \n",
            "Model summary: 157 layers, 7012822 parameters, 0 gradients, 15.8 GFLOPs\n",
            "                 Class     Images  Instances          P          R      mAP50   mAP50-95: 100% 31/31 [00:02<00:00, 13.77it/s]\n",
            "                   all        124        202       0.86      0.871      0.896       0.48\n",
            "Results saved to \u001b[1mruns/train/exp\u001b[0m\n"
          ]
        }
      ]
    },
    {
      "cell_type": "code",
      "source": [
        "!python detect.py --weights runs/train/exp/weights/best.pt --img 640 --conf 0.25 --source ../robert-moses-state-park-beaches-parking-lot-with-construction-cones-blocking-every-other-spot-for-50-percent-capacity-social-distance-because-of-corna-2CDPYY6.jpg"
      ],
      "metadata": {
        "colab": {
          "base_uri": "https://localhost:8080/"
        },
        "id": "QYECXxHz6TXT",
        "outputId": "0d054047-67bd-4584-b0d6-0fdc815a5cdb"
      },
      "execution_count": null,
      "outputs": [
        {
          "output_type": "stream",
          "name": "stdout",
          "text": [
            "WARNING ⚠️ user config directory is not writeable, defaulting to '/tmp/Ultralytics'.\n",
            "\u001b[34m\u001b[1mdetect: \u001b[0mweights=['runs/train/exp/weights/best.pt'], source=../robert-moses-state-park-beaches-parking-lot-with-construction-cones-blocking-every-other-spot-for-50-percent-capacity-social-distance-because-of-corna-2CDPYY6.jpg, data=data/coco128.yaml, imgsz=[640, 640], conf_thres=0.25, iou_thres=0.45, max_det=1000, device=, view_img=False, save_txt=False, save_conf=False, save_crop=False, nosave=False, classes=None, agnostic_nms=False, augment=False, visualize=False, update=False, project=runs/detect, name=exp, exist_ok=False, line_thickness=3, hide_labels=False, hide_conf=False, half=False, dnn=False, vid_stride=1\n",
            "YOLOv5 🚀 v7.0-178-ga199480 Python-3.10.12 torch-2.0.1+cu118 CUDA:0 (Tesla T4, 15102MiB)\n",
            "\n",
            "Fusing layers... \n",
            "Model summary: 157 layers, 7012822 parameters, 0 gradients, 15.8 GFLOPs\n",
            "image 1/1 /content/robert-moses-state-park-beaches-parking-lot-with-construction-cones-blocking-every-other-spot-for-50-percent-capacity-social-distance-because-of-corna-2CDPYY6.jpg: 320x640 3 cones, 54.4ms\n",
            "Speed: 0.5ms pre-process, 54.4ms inference, 106.2ms NMS per image at shape (1, 3, 640, 640)\n",
            "Results saved to \u001b[1mruns/detect/exp7\u001b[0m\n"
          ]
        }
      ]
    },
    {
      "cell_type": "code",
      "source": [
        "!python --version\n"
      ],
      "metadata": {
        "colab": {
          "base_uri": "https://localhost:8080/"
        },
        "id": "UD959C8XQuMX",
        "outputId": "c9730859-eb8c-4055-eca0-0303880c7348"
      },
      "execution_count": null,
      "outputs": [
        {
          "output_type": "stream",
          "name": "stdout",
          "text": [
            "Python 3.9.16\n"
          ]
        }
      ]
    },
    {
      "cell_type": "code",
      "source": [
        "!nvcc --version\n"
      ],
      "metadata": {
        "colab": {
          "base_uri": "https://localhost:8080/"
        },
        "id": "zQNaocWRR__3",
        "outputId": "46fc9e5e-e4ff-49db-b2dd-025f696be0b3"
      },
      "execution_count": null,
      "outputs": [
        {
          "output_type": "stream",
          "name": "stdout",
          "text": [
            "nvcc: NVIDIA (R) Cuda compiler driver\n",
            "Copyright (c) 2005-2022 NVIDIA Corporation\n",
            "Built on Wed_Sep_21_10:33:58_PDT_2022\n",
            "Cuda compilation tools, release 11.8, V11.8.89\n",
            "Build cuda_11.8.r11.8/compiler.31833905_0\n"
          ]
        }
      ]
    },
    {
      "cell_type": "code",
      "source": [
        "import multiprocessing\n",
        "print(multiprocessing.cpu_count())\n"
      ],
      "metadata": {
        "colab": {
          "base_uri": "https://localhost:8080/"
        },
        "id": "LBc1VgapSKfa",
        "outputId": "5ba818a2-da75-4dc4-9cda-caef3a986395"
      },
      "execution_count": null,
      "outputs": [
        {
          "output_type": "stream",
          "name": "stdout",
          "text": [
            "2\n"
          ]
        }
      ]
    },
    {
      "cell_type": "code",
      "source": [
        "!cat /proc/meminfo | grep 'MemAvailable'\n"
      ],
      "metadata": {
        "colab": {
          "base_uri": "https://localhost:8080/"
        },
        "id": "_FHVgi_9STGh",
        "outputId": "0123acc7-6388-4152-c502-bc39af91546d"
      },
      "execution_count": null,
      "outputs": [
        {
          "output_type": "stream",
          "name": "stdout",
          "text": [
            "MemAvailable:   12377892 kB\n"
          ]
        }
      ]
    },
    {
      "cell_type": "code",
      "source": [
        "!cat /proc/cpuinfo\n"
      ],
      "metadata": {
        "id": "O_gz8fLMUDrg",
        "outputId": "1c6fd050-74ed-49aa-f255-64e41b993ae2",
        "colab": {
          "base_uri": "https://localhost:8080/"
        }
      },
      "execution_count": null,
      "outputs": [
        {
          "output_type": "stream",
          "name": "stdout",
          "text": [
            "processor\t: 0\n",
            "vendor_id\t: GenuineIntel\n",
            "cpu family\t: 6\n",
            "model\t\t: 79\n",
            "model name\t: Intel(R) Xeon(R) CPU @ 2.20GHz\n",
            "stepping\t: 0\n",
            "microcode\t: 0xffffffff\n",
            "cpu MHz\t\t: 2199.998\n",
            "cache size\t: 56320 KB\n",
            "physical id\t: 0\n",
            "siblings\t: 2\n",
            "core id\t\t: 0\n",
            "cpu cores\t: 1\n",
            "apicid\t\t: 0\n",
            "initial apicid\t: 0\n",
            "fpu\t\t: yes\n",
            "fpu_exception\t: yes\n",
            "cpuid level\t: 13\n",
            "wp\t\t: yes\n",
            "flags\t\t: fpu vme de pse tsc msr pae mce cx8 apic sep mtrr pge mca cmov pat pse36 clflush mmx fxsr sse sse2 ss ht syscall nx pdpe1gb rdtscp lm constant_tsc rep_good nopl xtopology nonstop_tsc cpuid tsc_known_freq pni pclmulqdq ssse3 fma cx16 pcid sse4_1 sse4_2 x2apic movbe popcnt aes xsave avx f16c rdrand hypervisor lahf_lm abm 3dnowprefetch invpcid_single ssbd ibrs ibpb stibp fsgsbase tsc_adjust bmi1 hle avx2 smep bmi2 erms invpcid rtm rdseed adx smap xsaveopt arat md_clear arch_capabilities\n",
            "bugs\t\t: cpu_meltdown spectre_v1 spectre_v2 spec_store_bypass l1tf mds swapgs taa mmio_stale_data retbleed\n",
            "bogomips\t: 4399.99\n",
            "clflush size\t: 64\n",
            "cache_alignment\t: 64\n",
            "address sizes\t: 46 bits physical, 48 bits virtual\n",
            "power management:\n",
            "\n",
            "processor\t: 1\n",
            "vendor_id\t: GenuineIntel\n",
            "cpu family\t: 6\n",
            "model\t\t: 79\n",
            "model name\t: Intel(R) Xeon(R) CPU @ 2.20GHz\n",
            "stepping\t: 0\n",
            "microcode\t: 0xffffffff\n",
            "cpu MHz\t\t: 2199.998\n",
            "cache size\t: 56320 KB\n",
            "physical id\t: 0\n",
            "siblings\t: 2\n",
            "core id\t\t: 0\n",
            "cpu cores\t: 1\n",
            "apicid\t\t: 1\n",
            "initial apicid\t: 1\n",
            "fpu\t\t: yes\n",
            "fpu_exception\t: yes\n",
            "cpuid level\t: 13\n",
            "wp\t\t: yes\n",
            "flags\t\t: fpu vme de pse tsc msr pae mce cx8 apic sep mtrr pge mca cmov pat pse36 clflush mmx fxsr sse sse2 ss ht syscall nx pdpe1gb rdtscp lm constant_tsc rep_good nopl xtopology nonstop_tsc cpuid tsc_known_freq pni pclmulqdq ssse3 fma cx16 pcid sse4_1 sse4_2 x2apic movbe popcnt aes xsave avx f16c rdrand hypervisor lahf_lm abm 3dnowprefetch invpcid_single ssbd ibrs ibpb stibp fsgsbase tsc_adjust bmi1 hle avx2 smep bmi2 erms invpcid rtm rdseed adx smap xsaveopt arat md_clear arch_capabilities\n",
            "bugs\t\t: cpu_meltdown spectre_v1 spectre_v2 spec_store_bypass l1tf mds swapgs taa mmio_stale_data retbleed\n",
            "bogomips\t: 4399.99\n",
            "clflush size\t: 64\n",
            "cache_alignment\t: 64\n",
            "address sizes\t: 46 bits physical, 48 bits virtual\n",
            "power management:\n",
            "\n"
          ]
        }
      ]
    },
    {
      "cell_type": "code",
      "source": [
        "import tensorflow as tf\n",
        "tf.test.gpu_device_name()"
      ],
      "metadata": {
        "colab": {
          "base_uri": "https://localhost:8080/",
          "height": 35
        },
        "id": "qHgjauR_MuDj",
        "outputId": "f9b9a592-03e2-4b34-f8d8-a99b0c811762"
      },
      "execution_count": null,
      "outputs": [
        {
          "output_type": "execute_result",
          "data": {
            "text/plain": [
              "'/device:GPU:0'"
            ],
            "application/vnd.google.colaboratory.intrinsic+json": {
              "type": "string"
            }
          },
          "metadata": {},
          "execution_count": 1
        }
      ]
    },
    {
      "cell_type": "code",
      "source": [
        "!nvidia-smi"
      ],
      "metadata": {
        "id": "yXMZEPVbNYDj",
        "outputId": "e3f929f6-a0a5-4a2c-806d-84f2277cd10c",
        "colab": {
          "base_uri": "https://localhost:8080/"
        }
      },
      "execution_count": null,
      "outputs": [
        {
          "output_type": "stream",
          "name": "stdout",
          "text": [
            "Tue Mar 21 17:26:49 2023       \n",
            "+-----------------------------------------------------------------------------+\n",
            "| NVIDIA-SMI 525.85.12    Driver Version: 525.85.12    CUDA Version: 12.0     |\n",
            "|-------------------------------+----------------------+----------------------+\n",
            "| GPU  Name        Persistence-M| Bus-Id        Disp.A | Volatile Uncorr. ECC |\n",
            "| Fan  Temp  Perf  Pwr:Usage/Cap|         Memory-Usage | GPU-Util  Compute M. |\n",
            "|                               |                      |               MIG M. |\n",
            "|===============================+======================+======================|\n",
            "|   0  Tesla T4            Off  | 00000000:00:04.0 Off |                    0 |\n",
            "| N/A   46C    P0    28W /  70W |    339MiB / 15360MiB |      0%      Default |\n",
            "|                               |                      |                  N/A |\n",
            "+-------------------------------+----------------------+----------------------+\n",
            "                                                                               \n",
            "+-----------------------------------------------------------------------------+\n",
            "| Processes:                                                                  |\n",
            "|  GPU   GI   CI        PID   Type   Process name                  GPU Memory |\n",
            "|        ID   ID                                                   Usage      |\n",
            "|=============================================================================|\n",
            "+-----------------------------------------------------------------------------+\n"
          ]
        }
      ]
    }
  ]
}